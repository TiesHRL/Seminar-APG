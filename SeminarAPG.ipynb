{
  "nbformat": 4,
  "nbformat_minor": 0,
  "metadata": {
    "colab": {
      "provenance": [],
      "toc_visible": true,
      "include_colab_link": true
    },
    "kernelspec": {
      "name": "python3",
      "display_name": "Python 3"
    },
    "language_info": {
      "name": "python"
    }
  },
  "cells": [
    {
      "cell_type": "markdown",
      "metadata": {
        "id": "view-in-github",
        "colab_type": "text"
      },
      "source": [
        "<a href=\"https://colab.research.google.com/github/TiesHRL/Farmtrace/blob/main/SeminarAPG.ipynb\" target=\"_parent\"><img src=\"https://colab.research.google.com/assets/colab-badge.svg\" alt=\"Open In Colab\"/></a>"
      ]
    },
    {
      "cell_type": "code",
      "execution_count": null,
      "metadata": {
        "id": "lhVDnaegG8Qg",
        "colab": {
          "base_uri": "https://localhost:8080/"
        },
        "outputId": "b28bac43-436c-4999-d465-c9f8f248efa5"
      },
      "outputs": [
        {
          "output_type": "stream",
          "name": "stdout",
          "text": [
            "Ties is gemeen en jaloers\n"
          ]
        }
      ],
      "source": [
        "if True:\n",
        "  print(\"Welcome to the Chat GPT code to generate \")"
      ]
    },
    {
      "cell_type": "code",
      "source": [
        "import numpy as np\n",
        "\n",
        "def score_based_greedy_search(time_series):\n",
        "    n = len(time_series)\n",
        "    # Initialize the DAG with no edges\n",
        "    dag = np.zeros((n, n))\n",
        "    # Initialize the scores array\n",
        "    scores = np.zeros(n)\n",
        "    # Calculate the scores for each node\n",
        "    for i in range(n):\n",
        "        for j in range(i+1, n):\n",
        "            delta = time_series[j] - time_series[i]\n",
        "            scores[i] += delta * (delta > 0)\n",
        "    # Perform the greedy search\n",
        "    for i in range(n):\n",
        "        for j in range(i+1, n):\n",
        "            if scores[j] > scores[i]:\n",
        "                dag[i][j] = 1\n",
        "    return dag\n",
        "\n",
        "# Example usage:\n",
        "time_series = [1, 2, 1, 3, 4, 5, 6, 7, 8, 9]\n",
        "dag = score_based_greedy_search(time_series)\n",
        "print(dag)\n"
      ],
      "metadata": {
        "colab": {
          "base_uri": "https://localhost:8080/"
        },
        "id": "eysM5u1YTCZn",
        "outputId": "fece32ff-5403-4a64-a884-1542e069d569"
      },
      "execution_count": 3,
      "outputs": [
        {
          "output_type": "stream",
          "name": "stdout",
          "text": [
            "[[0. 0. 0. 0. 0. 0. 0. 0. 0. 0.]\n",
            " [0. 0. 1. 0. 0. 0. 0. 0. 0. 0.]\n",
            " [0. 0. 0. 0. 0. 0. 0. 0. 0. 0.]\n",
            " [0. 0. 0. 0. 0. 0. 0. 0. 0. 0.]\n",
            " [0. 0. 0. 0. 0. 0. 0. 0. 0. 0.]\n",
            " [0. 0. 0. 0. 0. 0. 0. 0. 0. 0.]\n",
            " [0. 0. 0. 0. 0. 0. 0. 0. 0. 0.]\n",
            " [0. 0. 0. 0. 0. 0. 0. 0. 0. 0.]\n",
            " [0. 0. 0. 0. 0. 0. 0. 0. 0. 0.]\n",
            " [0. 0. 0. 0. 0. 0. 0. 0. 0. 0.]]\n"
          ]
        }
      ]
    }
  ]
}